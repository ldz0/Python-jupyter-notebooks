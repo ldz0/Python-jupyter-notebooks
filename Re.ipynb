{
 "cells": [
  {
   "cell_type": "markdown",
   "metadata": {},
   "source": [
    "## 正则表达式"
   ]
  },
  {
   "cell_type": "markdown",
   "metadata": {},
   "source": [
    "### 常见匹配模式"
   ]
  },
  {
   "cell_type": "markdown",
   "metadata": {},
   "source": [
    "| 模式 | 描述| \n",
    "|: ----------------- |:-----------------------------------------------------------------|\n",
    "|\\w |匹配字母、数字及下划线 |\n",
    "|\\W |匹配不是字母、数字及下划线的字符|\n",
    "|\\s |匹配任意空白字符，等价于[\\t\\n\\r\\f]|\n",
    "|\\S |匹配任意非空字符|\n",
    "|\\d |匹配任意数字，等价于[0-9]|\n",
    "|\\D |匹配任意非数字字符|\n",
    "|\\A |匹配字符串开头|\n",
    "|\\Z |匹配字符串结尾，如果存在换行，只匹配到换行前的结束字符串|\n",
    "|\\z |匹配字符串结尾，如果存在换行，同时还会匹配换行符|\n",
    "|\\G |匹配最后匹配完成的位置|\n",
    "|\\n |匹配一个换行符|\n",
    "|\\t |匹配一个制表符|\n",
    "|^ |匹配一行字符串的开头|\n",
    "|$ |匹配一行字符串的结尾|\n",
    "|. |匹配任意字符，除了换行符，当re.DATALL标记被指定时，则可以匹配包括换行符的任意字符|\n",
    "|[...] |用来表示一组字符，单独列出，比如[amk]匹配a、m或k|\n",
    "|[^...] |不在[]中的字符，比如[^abc]匹配除了a、b、c之外的字符|\n",
    "|* |匹配0个或多个表达式|\n",
    "|+ |匹配1个或多个表达式|\n",
    "|? |匹配0个或1个前面的正则表达式定义的片段，非贪婪模式|\n",
    "|{n} |精确匹配n个前面的表达式|\n",
    "|{n,m} |匹配n到m次由前面正则表达式定义的片段，贪婪模式|\n",
    "|a\\|b |匹配a或b|\n",
    "|() |匹配括号内的表达式，也表示一个组|"
   ]
  },
  {
   "cell_type": "markdown",
   "metadata": {},
   "source": [
    "### re.match"
   ]
  },
  {
   "cell_type": "markdown",
   "metadata": {},
   "source": [
    "re.match(pattern,string,flags=0)"
   ]
  },
  {
   "cell_type": "markdown",
   "metadata": {},
   "source": [
    "### 最常规的匹配"
   ]
  },
  {
   "cell_type": "code",
   "execution_count": 1,
   "metadata": {},
   "outputs": [
    {
     "name": "stdout",
     "output_type": "stream",
     "text": [
      "41\n",
      "<_sre.SRE_Match object; span=(0, 41), match='Hello 123 4567 World_This is a Regex Demo'>\n",
      "Hello 123 4567 World_This is a Regex Demo\n",
      "(0, 41)\n"
     ]
    }
   ],
   "source": [
    "import re\n",
    "\n",
    "content='Hello 123 4567 World_This is a Regex Demo'\n",
    "print(len(content))\n",
    "result=re.match('^Hello\\s\\d\\d\\d\\s\\d{4}\\s\\w{10}.*Demo$',content)\n",
    "print(result)\n",
    "print(result.group())\n",
    "print(result.span())"
   ]
  },
  {
   "cell_type": "markdown",
   "metadata": {},
   "source": [
    "### 泛匹配"
   ]
  },
  {
   "cell_type": "code",
   "execution_count": 2,
   "metadata": {},
   "outputs": [
    {
     "name": "stdout",
     "output_type": "stream",
     "text": [
      "<_sre.SRE_Match object; span=(0, 41), match='Hello 123 4567 World_This is a Regex Demo'>\n",
      "Hello 123 4567 World_This is a Regex Demo\n",
      "(0, 41)\n"
     ]
    }
   ],
   "source": [
    "import re\n",
    "\n",
    "content='Hello 123 4567 World_This is a Regex Demo'\n",
    "result=re.match('^Hello.*Demo$',content)\n",
    "print(result)\n",
    "print(result.group())\n",
    "print(result.span())"
   ]
  },
  {
   "cell_type": "markdown",
   "metadata": {},
   "source": [
    "### 匹配目标"
   ]
  },
  {
   "cell_type": "code",
   "execution_count": 4,
   "metadata": {},
   "outputs": [
    {
     "name": "stdout",
     "output_type": "stream",
     "text": [
      "<_sre.SRE_Match object; span=(0, 40), match='Hello 1234567 World_This is a Regex Demo'>\n",
      "Hello 1234567 World_This is a Regex Demo\n",
      "1234567\n",
      "(0, 40)\n"
     ]
    }
   ],
   "source": [
    "import re\n",
    "\n",
    "content='Hello 1234567 World_This is a Regex Demo'\n",
    "result=re.match('^Hello\\s(\\d+)\\sWorld.*Demo$',content)\n",
    "print(result)\n",
    "print(result.group())\n",
    "print(result.group(1))\n",
    "print(result.span())"
   ]
  },
  {
   "cell_type": "markdown",
   "metadata": {},
   "source": [
    "### 贪婪匹配"
   ]
  },
  {
   "cell_type": "code",
   "execution_count": 9,
   "metadata": {},
   "outputs": [
    {
     "name": "stdout",
     "output_type": "stream",
     "text": [
      "<_sre.SRE_Match object; span=(0, 40), match='Hello 1234567 World_This is a Regex Demo'>\n",
      "7\n"
     ]
    }
   ],
   "source": [
    "import re\n",
    "\n",
    "content='Hello 1234567 World_This is a Regex Demo'\n",
    "result=re.match('He.*(\\d+).*Demo$',content)\n",
    "print(result)\n",
    "print(result.group(1))"
   ]
  },
  {
   "cell_type": "markdown",
   "metadata": {},
   "source": [
    "### 非贪婪匹配"
   ]
  },
  {
   "cell_type": "code",
   "execution_count": 8,
   "metadata": {},
   "outputs": [
    {
     "name": "stdout",
     "output_type": "stream",
     "text": [
      "<_sre.SRE_Match object; span=(0, 40), match='Hello 1234567 World_This is a Regex Demo'>\n",
      "1234567\n"
     ]
    }
   ],
   "source": [
    "import re\n",
    "\n",
    "content='Hello 1234567 World_This is a Regex Demo'\n",
    "result=re.match('He.*?(\\d+).*Demo$',content)\n",
    "print(result)\n",
    "print(result.group(1))"
   ]
  },
  {
   "cell_type": "markdown",
   "metadata": {},
   "source": [
    "### 匹配模式"
   ]
  },
  {
   "cell_type": "code",
   "execution_count": 16,
   "metadata": {},
   "outputs": [
    {
     "name": "stdout",
     "output_type": "stream",
     "text": [
      "<_sre.SRE_Match object; span=(0, 41), match='Hello 1234567 World_This \\nis a Regex Demo'>\n",
      "Hello 1234567 World_This \n",
      "is a Regex Demo\n",
      "1234567\n"
     ]
    }
   ],
   "source": [
    "import re\n",
    "\n",
    "content='''Hello 1234567 World_This \n",
    "is a Regex Demo\n",
    "'''\n",
    "result=re.match('^He.*?(\\d+).*?Demo$',content,re.S)\n",
    "print(result)\n",
    "print(result.group())\n",
    "print(result.group(1))"
   ]
  },
  {
   "cell_type": "markdown",
   "metadata": {},
   "source": [
    "### 转义"
   ]
  },
  {
   "cell_type": "code",
   "execution_count": 17,
   "metadata": {},
   "outputs": [
    {
     "name": "stdout",
     "output_type": "stream",
     "text": [
      "None\n"
     ]
    }
   ],
   "source": [
    "import re\n",
    "\n",
    "content='price is $5.00'\n",
    "result=re.match('price is $5.00',content)\n",
    "print(result)"
   ]
  },
  {
   "cell_type": "code",
   "execution_count": 18,
   "metadata": {},
   "outputs": [
    {
     "name": "stdout",
     "output_type": "stream",
     "text": [
      "<_sre.SRE_Match object; span=(0, 14), match='price is $5.00'>\n"
     ]
    }
   ],
   "source": [
    "import re\n",
    "\n",
    "content='price is $5.00'\n",
    "result=re.match('price is \\$5\\.00',content)\n",
    "print(result)"
   ]
  },
  {
   "cell_type": "markdown",
   "metadata": {},
   "source": [
    "总结：尽量使用泛匹配、使用括号得到匹配目标、尽量使用非贪婪模式、有换行符就用re.S"
   ]
  },
  {
   "cell_type": "markdown",
   "metadata": {},
   "source": [
    "### re.search"
   ]
  },
  {
   "cell_type": "markdown",
   "metadata": {},
   "source": [
    "re.search扫描整个字符串并返回第一个成功的匹配"
   ]
  },
  {
   "cell_type": "code",
   "execution_count": 24,
   "metadata": {},
   "outputs": [
    {
     "name": "stdout",
     "output_type": "stream",
     "text": [
      "None\n"
     ]
    }
   ],
   "source": [
    "import re\n",
    "\n",
    "content='Extra stings Hello 1234567 World_This is a Regex Demo Extra stings'\n",
    "result=re.match('Hello.*?(\\d+).*?Demo',content)\n",
    "print(result)"
   ]
  },
  {
   "cell_type": "code",
   "execution_count": 26,
   "metadata": {},
   "outputs": [
    {
     "name": "stdout",
     "output_type": "stream",
     "text": [
      "<_sre.SRE_Match object; span=(13, 53), match='Hello 1234567 World_This is a Regex Demo'>\n",
      "Hello 1234567 World_This is a Regex Demo\n",
      "1234567\n"
     ]
    }
   ],
   "source": [
    "import re\n",
    "\n",
    "content='Extra stings Hello 1234567 World_This is a Regex Demo Extra stings'\n",
    "result=re.search('Hello.*?(\\d+).*?Demo',content)\n",
    "print(result)\n",
    "print(result.group())\n",
    "print(result.group(1))"
   ]
  },
  {
   "cell_type": "markdown",
   "metadata": {},
   "source": [
    "总结：为了匹配方便，能使用search就不用match"
   ]
  },
  {
   "cell_type": "markdown",
   "metadata": {},
   "source": [
    "### 匹配练习"
   ]
  },
  {
   "cell_type": "code",
   "execution_count": 28,
   "metadata": {},
   "outputs": [
    {
     "name": "stdout",
     "output_type": "stream",
     "text": [
      "齐秦 往事随风\n"
     ]
    }
   ],
   "source": [
    "import re\n",
    "\n",
    "html='''<div id=\"songs-list>\n",
    "     <h2 class=\"title\">经典老歌</h2>\n",
    "     <p class=\"introduction\">\n",
    "         经典老歌列表\n",
    "     </p>\n",
    "     <ul id=\"list\" class=\"list-group\">\n",
    "       <li data-view=\"2\">一路上有你</li>\n",
    "       <li data-view=\"7\">\n",
    "          <a href=\"/2.mp3\" singer=\"任贤齐\">沧海一声笑</a>\n",
    "       </li>\n",
    "       <li data-view=\"4\" class=\"active\">\n",
    "          <a href=\"/3.mp3\" singer=\"齐秦\">往事随风</a>\n",
    "       </li>\n",
    "       <li data-view=\"6\"><a href=\"/4.mp3\"singer=\"beyond\">光辉岁月</a></li>\n",
    "       <li data-view=\"5\"><a href=\"/5.mp3\"singer=\"陈慧琳\">记事本</a></li>\n",
    "       <li data-view=\"5\">\n",
    "          <a href=\"/6.mp3\"singer=\"邓丽君\"><i class=\"fa fa-user\"></i>但愿人长久</a>\n",
    "       </li>\n",
    "    </ul>\n",
    "</div>'''\n",
    "result=re.search('<li.*?active.*?singer=\"(.*?)\">(.*?)</a>',html,re.S)\n",
    "if result:\n",
    "    print(result.group(1),result.group(2))"
   ]
  },
  {
   "cell_type": "code",
   "execution_count": 29,
   "metadata": {},
   "outputs": [
    {
     "name": "stdout",
     "output_type": "stream",
     "text": [
      "任贤齐 沧海一声笑\n"
     ]
    }
   ],
   "source": [
    "import re\n",
    "\n",
    "html='''<div id=\"songs-list>\n",
    "     <h2 class=\"title\">经典老歌</h2>\n",
    "     <p class=\"introduction\">\n",
    "         经典老歌列表\n",
    "     </p>\n",
    "     <ul id=\"list\" class=\"list-group\">\n",
    "       <li data-view=\"2\">一路上有你</li>\n",
    "       <li data-view=\"7\">\n",
    "          <a href=\"/2.mp3\" singer=\"任贤齐\">沧海一声笑</a>\n",
    "       </li>\n",
    "       <li data-view=\"4\" class=\"active\">\n",
    "          <a href=\"/3.mp3\" singer=\"齐秦\">往事随风</a>\n",
    "       </li>\n",
    "       <li data-view=\"6\"><a href=\"/4.mp3\"singer=\"beyond\">光辉岁月</a></li>\n",
    "       <li data-view=\"5\"><a href=\"/5.mp3\"singer=\"陈慧琳\">记事本</a></li>\n",
    "       <li data-view=\"5\">\n",
    "          <a href=\"/6.mp3\"singer=\"邓丽君\"><i class=\"fa fa-user\"></i>但愿人长久</a>\n",
    "       </li>\n",
    "    </ul>\n",
    "</div>'''\n",
    "result=re.search('<li.*?singer=\"(.*?)\">(.*?)</a>',html,re.S)\n",
    "if result:\n",
    "    print(result.group(1),result.group(2))"
   ]
  },
  {
   "cell_type": "code",
   "execution_count": 30,
   "metadata": {},
   "outputs": [
    {
     "name": "stdout",
     "output_type": "stream",
     "text": [
      "beyond 光辉岁月\n"
     ]
    }
   ],
   "source": [
    "import re\n",
    "\n",
    "html='''<div id=\"songs-list>\n",
    "     <h2 class=\"title\">经典老歌</h2>\n",
    "     <p class=\"introduction\">\n",
    "         经典老歌列表\n",
    "     </p>\n",
    "     <ul id=\"list\" class=\"list-group\">\n",
    "       <li data-view=\"2\">一路上有你</li>\n",
    "       <li data-view=\"7\">\n",
    "          <a href=\"/2.mp3\" singer=\"任贤齐\">沧海一声笑</a>\n",
    "       </li>\n",
    "       <li data-view=\"4\" class=\"active\">\n",
    "          <a href=\"/3.mp3\" singer=\"齐秦\">往事随风</a>\n",
    "       </li>\n",
    "       <li data-view=\"6\"><a href=\"/4.mp3\"singer=\"beyond\">光辉岁月</a></li>\n",
    "       <li data-view=\"5\"><a href=\"/5.mp3\"singer=\"陈慧琳\">记事本</a></li>\n",
    "       <li data-view=\"5\">\n",
    "          <a href=\"/6.mp3\"singer=\"邓丽君\"><i class=\"fa fa-user\"></i>但愿人长久</a>\n",
    "       </li>\n",
    "    </ul>\n",
    "</div>'''\n",
    "result=re.search('<li.*?singer=\"(.*?)\">(.*?)</a>',html)\n",
    "if result:\n",
    "    print(result.group(1),result.group(2))"
   ]
  },
  {
   "cell_type": "markdown",
   "metadata": {},
   "source": [
    "### re.findall"
   ]
  },
  {
   "cell_type": "markdown",
   "metadata": {},
   "source": [
    "搜素字符串，以列表形式返回全部能匹配的子串。"
   ]
  },
  {
   "cell_type": "code",
   "execution_count": 38,
   "metadata": {},
   "outputs": [
    {
     "name": "stdout",
     "output_type": "stream",
     "text": [
      "[('/2.mp3', '任贤齐', '沧海一声笑'), ('/3.mp3', '齐秦', '往事随风'), ('/4.mp3', 'beyond', '光辉岁月'), ('/5.mp3', '陈慧琳', '记事本'), ('/6.mp3', '邓丽君', '但愿人长久')]\n",
      "<class 'list'>\n",
      "('/2.mp3', '任贤齐', '沧海一声笑')\n",
      "/2.mp3 任贤齐 沧海一声笑\n",
      "('/3.mp3', '齐秦', '往事随风')\n",
      "/3.mp3 齐秦 往事随风\n",
      "('/4.mp3', 'beyond', '光辉岁月')\n",
      "/4.mp3 beyond 光辉岁月\n",
      "('/5.mp3', '陈慧琳', '记事本')\n",
      "/5.mp3 陈慧琳 记事本\n",
      "('/6.mp3', '邓丽君', '但愿人长久')\n",
      "/6.mp3 邓丽君 但愿人长久\n"
     ]
    }
   ],
   "source": [
    "import re\n",
    "\n",
    "html='''<div id=\"songs-list>\n",
    "     <h2 class=\"title\">经典老歌</h2>\n",
    "     <p class=\"introduction\">\n",
    "         经典老歌列表\n",
    "     </p>\n",
    "     <ul id=\"list\" class=\"list-group\">\n",
    "       <li data-view=\"2\">一路上有你</li>\n",
    "       <li data-view=\"7\">\n",
    "          <a href=\"/2.mp3\" singer=\"任贤齐\">沧海一声笑</a>\n",
    "       </li>\n",
    "       <li data-view=\"4\" class=\"active\">\n",
    "          <a href=\"/3.mp3\" singer=\"齐秦\">往事随风</a>\n",
    "       </li>\n",
    "       <li data-view=\"6\"><a href=\"/4.mp3\"singer=\"beyond\">光辉岁月</a></li>\n",
    "       <li data-view=\"5\"><a href=\"/5.mp3\"singer=\"陈慧琳\">记事本</a></li>\n",
    "       <li data-view=\"5\">\n",
    "          <a href=\"/6.mp3\"singer=\"邓丽君\">但愿人长久</a>\n",
    "       </li>\n",
    "    </ul>\n",
    "</div>'''\n",
    "results=re.findall('<li.*?href=\"(.*?)\".*?singer=\"(.*?)\">(.*?)</a>',html,re.S)\n",
    "print(results)\n",
    "print(type(results))\n",
    "for result in results:\n",
    "    print(result)\n",
    "    print(result[0],result[1],result[2])"
   ]
  },
  {
   "cell_type": "code",
   "execution_count": 44,
   "metadata": {},
   "outputs": [
    {
     "name": "stdout",
     "output_type": "stream",
     "text": [
      "[('', '一路上有你', ''), ('<a href=\"/2.mp3\" singer=\"任贤齐\">', '沧海一声笑', '</a>'), ('<a href=\"/3.mp3\" singer=\"齐秦\">', '往事随风', '</a>'), ('<a href=\"/4.mp3\"singer=\"beyond\">', '光辉岁月', '</a>'), ('<a href=\"/5.mp3\"singer=\"陈慧琳\">', '记事本', '</a>'), ('<a href=\"/6.mp3\"singer=\"邓丽君\">', '但愿人长久', '</a>')]\n",
      "一路上有你\n",
      "沧海一声笑\n",
      "往事随风\n",
      "光辉岁月\n",
      "记事本\n",
      "但愿人长久\n"
     ]
    }
   ],
   "source": [
    "import re\n",
    "\n",
    "html='''<div id=\"songs-list>\n",
    "     <h2 class=\"title\">经典老歌</h2>\n",
    "     <p class=\"introduction\">\n",
    "         经典老歌列表\n",
    "     </p>\n",
    "     <ul id=\"list\" class=\"list-group\">\n",
    "       <li data-view=\"2\">一路上有你</li>\n",
    "       <li data-view=\"7\">\n",
    "          <a href=\"/2.mp3\" singer=\"任贤齐\">沧海一声笑</a>\n",
    "       </li>\n",
    "       <li data-view=\"4\" class=\"active\">\n",
    "          <a href=\"/3.mp3\" singer=\"齐秦\">往事随风</a>\n",
    "       </li>\n",
    "       <li data-view=\"6\"><a href=\"/4.mp3\"singer=\"beyond\">光辉岁月</a></li>\n",
    "       <li data-view=\"5\"><a href=\"/5.mp3\"singer=\"陈慧琳\">记事本</a></li>\n",
    "       <li data-view=\"5\">\n",
    "          <a href=\"/6.mp3\"singer=\"邓丽君\">但愿人长久</a>\n",
    "       </li>\n",
    "    </ul>\n",
    "</div>'''\n",
    "results=re.findall('<li.*?>\\s*?(<a.*?>)?(\\w+)(</a>)?\\s*?</li>',html,re.S)\n",
    "print(results)\n",
    "for result in results:\n",
    "    print(result[1])"
   ]
  },
  {
   "cell_type": "markdown",
   "metadata": {},
   "source": [
    "### re.sub"
   ]
  },
  {
   "cell_type": "markdown",
   "metadata": {},
   "source": [
    "替换字符串中每一个匹配的子串后返回替换后的字符串"
   ]
  },
  {
   "cell_type": "code",
   "execution_count": 45,
   "metadata": {},
   "outputs": [
    {
     "name": "stdout",
     "output_type": "stream",
     "text": [
      "Extra stings Hello  World_This is a Regex Demo Extra stings\n"
     ]
    }
   ],
   "source": [
    "import re\n",
    "\n",
    "content='Extra stings Hello 1234567 World_This is a Regex Demo Extra stings'\n",
    "content=re.sub('\\d+','',content)\n",
    "print(content)"
   ]
  },
  {
   "cell_type": "code",
   "execution_count": 46,
   "metadata": {},
   "outputs": [
    {
     "name": "stdout",
     "output_type": "stream",
     "text": [
      "Extra stings Hello Replacement World_This is a Regex Demo Extra stings\n"
     ]
    }
   ],
   "source": [
    "import re\n",
    "\n",
    "content='Extra stings Hello 1234567 World_This is a Regex Demo Extra stings'\n",
    "content=re.sub('\\d+','Replacement',content)\n",
    "print(content)"
   ]
  },
  {
   "cell_type": "code",
   "execution_count": 48,
   "metadata": {},
   "outputs": [
    {
     "name": "stdout",
     "output_type": "stream",
     "text": [
      "Extra stings Hello 1234567 89101 World_This is a Regex Demo Extra stings\n"
     ]
    }
   ],
   "source": [
    "import re\n",
    "\n",
    "content='Extra stings Hello 1234567 World_This is a Regex Demo Extra stings'\n",
    "content=re.sub('(\\d+)',r'\\1 89101',content)\n",
    "print(content)"
   ]
  },
  {
   "cell_type": "code",
   "execution_count": 49,
   "metadata": {},
   "outputs": [
    {
     "name": "stdout",
     "output_type": "stream",
     "text": [
      "<div id=\"songs-list>\n",
      "     <h2 class=\"title\">经典老歌</h2>\n",
      "     <p class=\"introduction\">\n",
      "         经典老歌列表\n",
      "     </p>\n",
      "     <ul id=\"list\" class=\"list-group\">\n",
      "       <li data-view=\"2\">一路上有你</li>\n",
      "       <li data-view=\"7\">\n",
      "          沧海一声笑\n",
      "       </li>\n",
      "       <li data-view=\"4\" class=\"active\">\n",
      "          往事随风\n",
      "       </li>\n",
      "       <li data-view=\"6\">光辉岁月</li>\n",
      "       <li data-view=\"5\">记事本</li>\n",
      "       <li data-view=\"5\">\n",
      "          但愿人长久\n",
      "       </li>\n",
      "    </ul>\n",
      "</div>\n",
      "['一路上有你', '\\n          沧海一声笑\\n       ', '\\n          往事随风\\n       ', '光辉岁月', '记事本', '\\n          但愿人长久\\n       ']\n",
      "一路上有你\n",
      "沧海一声笑\n",
      "往事随风\n",
      "光辉岁月\n",
      "记事本\n",
      "但愿人长久\n"
     ]
    }
   ],
   "source": [
    "import re\n",
    "\n",
    "html='''<div id=\"songs-list>\n",
    "     <h2 class=\"title\">经典老歌</h2>\n",
    "     <p class=\"introduction\">\n",
    "         经典老歌列表\n",
    "     </p>\n",
    "     <ul id=\"list\" class=\"list-group\">\n",
    "       <li data-view=\"2\">一路上有你</li>\n",
    "       <li data-view=\"7\">\n",
    "          <a href=\"/2.mp3\" singer=\"任贤齐\">沧海一声笑</a>\n",
    "       </li>\n",
    "       <li data-view=\"4\" class=\"active\">\n",
    "          <a href=\"/3.mp3\" singer=\"齐秦\">往事随风</a>\n",
    "       </li>\n",
    "       <li data-view=\"6\"><a href=\"/4.mp3\"singer=\"beyond\">光辉岁月</a></li>\n",
    "       <li data-view=\"5\"><a href=\"/5.mp3\"singer=\"陈慧琳\">记事本</a></li>\n",
    "       <li data-view=\"5\">\n",
    "          <a href=\"/6.mp3\"singer=\"邓丽君\">但愿人长久</a>\n",
    "       </li>\n",
    "    </ul>\n",
    "</div>'''\n",
    "html=re.sub('<a.*?>|</a>','',html)\n",
    "print(html)\n",
    "results=re.findall('<li.*?>(.*?)</li>',html,re.S)\n",
    "print(results)\n",
    "for result in results:\n",
    "    print(result.strip())"
   ]
  },
  {
   "cell_type": "markdown",
   "metadata": {},
   "source": [
    "### re.compile"
   ]
  },
  {
   "cell_type": "markdown",
   "metadata": {},
   "source": [
    "将正则字符串编译成正则表达式对象"
   ]
  },
  {
   "cell_type": "code",
   "execution_count": null,
   "metadata": {},
   "outputs": [],
   "source": [
    "将一个正则表达式串编译成正则对象，以便于复用该匹配模式"
   ]
  },
  {
   "cell_type": "code",
   "execution_count": 50,
   "metadata": {},
   "outputs": [
    {
     "name": "stdout",
     "output_type": "stream",
     "text": [
      "<_sre.SRE_Match object; span=(0, 40), match='Hello 1234567 World_This\\nis a Regex Demo'>\n"
     ]
    }
   ],
   "source": [
    "import re\n",
    "\n",
    "content='''Hello 1234567 World_This\n",
    "is a Regex Demo'''\n",
    "pattern=re.compile('Hello.*Demo',re.S)\n",
    "result=re.match(pattern,content)\n",
    "#result=re.match('Hello.*Demo',content,re.S)\n",
    "print(result)"
   ]
  },
  {
   "cell_type": "markdown",
   "metadata": {},
   "source": [
    "### 实战练习"
   ]
  },
  {
   "cell_type": "markdown",
   "metadata": {},
   "source": [
    "爬取豆瓣读书中的图书信息"
   ]
  },
  {
   "cell_type": "code",
   "execution_count": 1,
   "metadata": {},
   "outputs": [
    {
     "name": "stdout",
     "output_type": "stream",
     "text": [
      "https://book.douban.com/subject/30274766/?icn=index-editionrecommend 潦草 贾行家 2018-8\n",
      "https://book.douban.com/subject/30228612/?icn=index-editionrecommend 游泳回家 [英]德博拉·利维 2018-8-1\n",
      "https://book.douban.com/subject/30280804/?icn=index-editionrecommend 薛兆丰经济学讲义 薛兆丰 2018-7\n",
      "https://book.douban.com/subject/30185326/?icn=index-editionrecommend 给孩子的未来脑计划 魏坤琳 2018-4\n",
      "https://book.douban.com/subject/30288807/?icn=index-editionrecommend 加密与解密（第4版） 段钢 2018-9-1\n",
      "https://book.douban.com/subject/30258687/?icn=index-latestbook-subject 战略级天使 白伯欢 2018-7\n",
      "https://book.douban.com/subject/30222403/?icn=index-latestbook-subject 明治天皇 (美)唐纳德·基恩(DonaldKeene) 2018-7\n",
      "https://book.douban.com/subject/27176955/?icn=index-latestbook-subject 罗特小说集2 [奥]约瑟夫·罗特&nbsp;/&nbsp;刘炜主编 2018-6\n",
      "https://book.douban.com/subject/30229646/?icn=index-latestbook-subject 阿波罗 [英]扎克·斯科特 2018-7-1\n",
      "https://book.douban.com/subject/30246163/?icn=index-latestbook-subject 默读.2 Priest 2018-6\n",
      "https://book.douban.com/subject/30259720/?icn=index-latestbook-subject 今日简史 [以]尤瓦尔·赫拉利 2018-8\n",
      "https://book.douban.com/subject/30237869/?icn=index-latestbook-subject 爱情故事的两个版本 [塞尔维亚]雅丝米娜·米哈伊洛维奇&nbsp;/&nbsp;[塞尔维亚]米洛拉德·帕维奇 2018-8\n",
      "https://book.douban.com/subject/27191001/?icn=index-latestbook-subject 东洋的近世 [日]宫崎市定著&nbsp;/&nbsp;[日]砺波护编 2018-7-20\n",
      "https://book.douban.com/subject/27598730/?icn=index-latestbook-subject 突然死亡 [墨]阿尔瓦罗·恩里克 2018-7\n",
      "https://book.douban.com/subject/30247531/?icn=index-latestbook-subject 听音乐（全彩插图第11版） [美]罗杰·凯密恩&nbsp;/&nbsp;RogerKamien 2018-7\n",
      "https://book.douban.com/subject/30218856/?icn=index-latestbook-subject 房客 [英]萨拉·沃特斯 2018-7\n",
      "https://book.douban.com/subject/30261591/?icn=index-latestbook-subject 美丽的标价 [美]阿什利·米尔斯 2018-7-5\n",
      "https://book.douban.com/subject/30238143/?icn=index-latestbook-subject 奥尔拉 [法]纪尧姆·索雷尔编绘 2018-9\n",
      "https://book.douban.com/subject/30231921/?icn=index-latestbook-subject 中国古代的谣言与谶语 栾保群 2018-7-1\n",
      "https://book.douban.com/subject/30175383/?icn=index-latestbook-subject 犯罪者的七不规范 张舟 2018-7\n",
      "https://book.douban.com/subject/30198886/?icn=index-latestbook-subject 艾略特·厄威特的巴黎 [美]艾略特·厄威特&nbsp;/&nbsp;ElliottErwitt 2018-6\n",
      "https://book.douban.com/subject/30180831/?icn=index-latestbook-subject 哀歌 [日]远藤周作 2018-6\n",
      "https://book.douban.com/subject/30235060/?icn=index-latestbook-subject 情感勒索 [美]苏珊·福沃德&nbsp;/&nbsp;唐娜·弗雷泽 2018-7\n",
      "https://book.douban.com/subject/30203733/?icn=index-latestbook-subject 阳光劫匪友情测试 [日]伊坂幸太郎 2018-8-1\n",
      "https://book.douban.com/subject/30274068/?icn=index-latestbook-subject 经济学的思维方式 [美]托马斯·索维尔 2018-8\n",
      "https://book.douban.com/subject/30190510/?icn=index-latestbook-subject 犯罪小说集 [日]谷崎润一郎 2018-7\n",
      "https://book.douban.com/subject/30207028/?icn=index-latestbook-subject 中国烟草史 [美]班凯乐 2018-7\n",
      "https://book.douban.com/subject/30167361/?icn=index-latestbook-subject 柏林1：石之城 [美]贾森·卢茨 2018-9\n",
      "https://book.douban.com/subject/30199434/?icn=index-latestbook-subject 原生家庭 （美）苏珊·福沃德博士&nbsp;/&nbsp;（美）克雷格·巴克 2018-8\n",
      "https://book.douban.com/subject/30261641/?icn=index-latestbook-subject 樱草忌 陆秋槎 2018-8\n",
      "https://book.douban.com/subject/30187740/?icn=index-latestbook-subject 李霖灿读画四十年 李霖灿 2018-6\n",
      "https://book.douban.com/subject/30271484/?icn=index-latestbook-subject 深蓝的故事 深蓝 2018-7\n",
      "https://book.douban.com/subject/27045307/?icn=index-latestbook-subject 唐物的文化史 [日]河添房江 2018-7\n",
      "https://book.douban.com/subject/27197821/?icn=index-latestbook-subject 洞穴 [葡]若泽·萨拉马戈 2018-6\n",
      "https://book.douban.com/subject/30200827/?icn=index-latestbook-subject 乐队女孩 [美]金·戈登 2018-7\n",
      "https://book.douban.com/subject/30243869/?icn=index-latestbook-subject 冷山 [美]查尔斯·弗雷泽 2018-8\n",
      "https://book.douban.com/subject/30280610/?icn=index-latestbook-subject 天长地久 龙应台 2018-8-1\n",
      "https://book.douban.com/subject/30261633/?icn=index-latestbook-subject 傀儡村事件 时晨 2018-8\n",
      "https://book.douban.com/subject/30254431/?icn=index-latestbook-subject 被猜死的人 田耳 2018-8\n",
      "https://book.douban.com/subject/30252127/?icn=index-latestbook-subject 今天也要好好地过 [日]吉竹伸介 2018-8\n"
     ]
    }
   ],
   "source": [
    "import requests\n",
    "import re\n",
    "headers={\n",
    "    'User-Agent':'Mozilla/5.0 (Windows NT 10.0; Win64; x64) AppleWebKit/537.36 (KHTML, like Gecko) Chrome/68.0.3440.75 Safari/537.36'\n",
    "}\n",
    "content=requests.get('https://book.douban.com/',headers=headers).text\n",
    "pattern=re.compile('<li.*?cover.*?href=\"(.*?)\".*?title=\"(.*?)\".*?more-meta.*?author\">(.*?)</span>.*?year\">(.*?)</span>.*?</li>',re.S)\n",
    "results=re.findall(pattern,content)\n",
    "for result in results:\n",
    "    url,name,author,data=result\n",
    "    author=re.sub('\\s','',author)\n",
    "    data=re.sub('\\s','',data)\n",
    "    print(url,name,author,data)"
   ]
  }
 ],
 "metadata": {
  "kernelspec": {
   "display_name": "Python 3",
   "language": "python",
   "name": "python3"
  },
  "language_info": {
   "codemirror_mode": {
    "name": "ipython",
    "version": 3
   },
   "file_extension": ".py",
   "mimetype": "text/x-python",
   "name": "python",
   "nbconvert_exporter": "python",
   "pygments_lexer": "ipython3",
   "version": "3.6.6"
  }
 },
 "nbformat": 4,
 "nbformat_minor": 2
}
